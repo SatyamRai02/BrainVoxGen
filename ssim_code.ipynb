{
 "cells": [
  {
   "cell_type": "code",
   "execution_count": 51,
   "id": "f8fc6604",
   "metadata": {
    "tags": []
   },
   "outputs": [],
   "source": [
    "import nibabel as nib\n",
    "from skimage.metrics import structural_similarity as ssim\n",
    "import numpy as np\n",
    "import random\n",
    "import matplotlib.pyplot as plt\n",
    "import os\n",
    "\n",
    "train_path = \"Dataset/train\"\n",
    "test_path = \"Dataset/test\""
   ]
  },
  {
   "cell_type": "code",
   "execution_count": 55,
   "id": "0e38b1ac-4307-4742-aef6-cdcbfe730d6b",
   "metadata": {
    "tags": []
   },
   "outputs": [
    {
     "name": "stdout",
     "output_type": "stream",
     "text": [
      "Number of MRI images for training: 20\n",
      "Number of ultrasound images for training: 20\n",
      "Number of MRI images for testing: 4\n",
      "Number of ultrasound images for testing: 4\n"
     ]
    }
   ],
   "source": [
    "# Get a list of MRI images for training\n",
    "train_mri_images = [os.path.abspath(path) for path in glob.glob(f'{train_path}/MRI/*.nii')]\n",
    "\n",
    "# Get a list of ultrasound images for training\n",
    "train_ultrasound_images = [os.path.abspath(path) for path in glob.glob(f'{train_path}/US/*.nii')]\n",
    "\n",
    "# Get a list of MRI images for testing\n",
    "test_mri_images = [os.path.abspath(path) for path in glob.glob(f'{test_path}/MRI/*.nii')]\n",
    "\n",
    "# Get a list of ultrasound images for testing\n",
    "test_ultrasound_images = [os.path.abspath(path) for path in glob.glob(f'{test_path}/US/*.nii')]\n",
    "\n",
    "\n",
    "print(\"Number of MRI images for training:\", len(train_mri_images))\n",
    "print(\"Number of ultrasound images for training:\", len(train_ultrasound_images))\n",
    "print(\"Number of MRI images for testing:\", len(test_mri_images))\n",
    "print(\"Number of ultrasound images for testing:\", len(test_ultrasound_images))"
   ]
  },
  {
   "cell_type": "code",
   "execution_count": 52,
   "id": "9ff0d19b-38e9-4753-b982-15283ea42156",
   "metadata": {
    "tags": []
   },
   "outputs": [],
   "source": [
    "import SimpleITK as sitk\n",
    "import numpy as np\n",
    "import os\n",
    "import glob\n",
    "\n",
    "# Create an empty list to store the numpy arrays\n",
    "train_mri_arrays = []\n",
    "\n",
    "# Loop through each image path, read the image, and append the numpy array to the list\n",
    "for image_path in train_mri_images:\n",
    "    sitk_image = sitk.ReadImage(image_path)\n",
    "    np_image = sitk.GetArrayFromImage(sitk_image)\n",
    "    train_mri_arrays.append(np_image)\n",
    "\n",
    "train_ultrasound_arrays = []\n",
    "\n",
    "# Loop through each image path, read the image, and append the numpy array to the list\n",
    "for image_path in train_ultrasound_images:\n",
    "    sitk_image = sitk.ReadImage(image_path)\n",
    "    np_image = sitk.GetArrayFromImage(sitk_image)\n",
    "    train_ultrasound_arrays.append(np_image)\n",
    "    "
   ]
  },
  {
   "cell_type": "code",
   "execution_count": 57,
   "id": "947f3d45-6eaa-4836-8b5a-8145a09ebe62",
   "metadata": {
    "tags": []
   },
   "outputs": [
    {
     "name": "stdout",
     "output_type": "stream",
     "text": [
      "Shape of MRI image 0: (138, 157, 175) E:\\BrainVoxGen\\Dataset\\train\\MRI\\cropped_MRI1.nii\n",
      "Shape of MRI image 1: (202, 178, 176) E:\\BrainVoxGen\\Dataset\\train\\MRI\\cropped_MRI10.nii\n",
      "Shape of MRI image 2: (181, 188, 185) E:\\BrainVoxGen\\Dataset\\train\\MRI\\cropped_MRI11.nii\n",
      "Shape of MRI image 3: (206, 165, 186) E:\\BrainVoxGen\\Dataset\\train\\MRI\\cropped_MRI12.nii\n",
      "Shape of MRI image 4: (172, 207, 177) E:\\BrainVoxGen\\Dataset\\train\\MRI\\cropped_MRI13.nii\n",
      "Shape of MRI image 5: (157, 191, 127) E:\\BrainVoxGen\\Dataset\\train\\MRI\\cropped_MRI14.nii\n",
      "Shape of MRI image 6: (179, 214, 164) E:\\BrainVoxGen\\Dataset\\train\\MRI\\cropped_MRI15.nii\n",
      "Shape of MRI image 7: (157, 213, 188) E:\\BrainVoxGen\\Dataset\\train\\MRI\\cropped_MRI16.nii\n",
      "Shape of MRI image 8: (187, 165, 204) E:\\BrainVoxGen\\Dataset\\train\\MRI\\cropped_MRI17.nii\n",
      "Shape of MRI image 9: (162, 213, 182) E:\\BrainVoxGen\\Dataset\\train\\MRI\\cropped_MRI18.nii\n",
      "Shape of MRI image 10: (27, 22, 21) E:\\BrainVoxGen\\Dataset\\train\\MRI\\Cropped_MRI19.nii\n",
      "Shape of MRI image 11: (127, 193, 154) E:\\BrainVoxGen\\Dataset\\train\\MRI\\cropped_MRI2.nii\n",
      "Shape of MRI image 12: (24, 14, 25) E:\\BrainVoxGen\\Dataset\\train\\MRI\\Cropped_MRI20.nii\n",
      "Shape of MRI image 13: (124, 157, 169) E:\\BrainVoxGen\\Dataset\\train\\MRI\\cropped_MRI3.nii\n",
      "Shape of MRI image 14: (147, 152, 169) E:\\BrainVoxGen\\Dataset\\train\\MRI\\cropped_MRI4.nii\n",
      "Shape of MRI image 15: (140, 168, 162) E:\\BrainVoxGen\\Dataset\\train\\MRI\\cropped_MRI5.nii\n",
      "Shape of MRI image 16: (152, 199, 125) E:\\BrainVoxGen\\Dataset\\train\\MRI\\cropped_MRI6.nii\n",
      "Shape of MRI image 17: (162, 158, 148) E:\\BrainVoxGen\\Dataset\\train\\MRI\\cropped_MRI7.nii\n",
      "Shape of MRI image 18: (150, 151, 167) E:\\BrainVoxGen\\Dataset\\train\\MRI\\cropped_MRI8.nii\n",
      "Shape of MRI image 19: (203, 185, 167) E:\\BrainVoxGen\\Dataset\\train\\MRI\\cropped_MRI9.nii\n"
     ]
    }
   ],
   "source": [
    "for i, np_image in enumerate(train_mri_arrays):\n",
    "    print(f\"Shape of MRI image {i}: {np_image.shape}\", str(train_mri_images[i]))"
   ]
  },
  {
   "cell_type": "code",
   "execution_count": 37,
   "id": "8b0a1e8f-c717-41e1-9a33-0d7f29ae75a5",
   "metadata": {
    "tags": []
   },
   "outputs": [
    {
     "name": "stdout",
     "output_type": "stream",
     "text": [
      "(20, 128, 128, 128)\n",
      "(20, 128, 128, 128)\n"
     ]
    }
   ],
   "source": [
    "import numpy as np\n",
    "from scipy import ndimage\n",
    "\n",
    "# Set the target dimensions\n",
    "x_dim = 128\n",
    "y_dim = 128\n",
    "z_dim = 128\n",
    "\n",
    "resized_train_mri_images = np.zeros((len(train_mri_arrays), x_dim, y_dim, z_dim))\n",
    "resized_train_ultrasound_images = np.zeros((len(train_ultrasound_arrays), x_dim, y_dim, z_dim))\n",
    "\n",
    "# Resize all the training images to the same shape\n",
    "for i, img in enumerate(train_mri_arrays):\n",
    "    resized_train_mri_images[i] = ndimage.zoom(img, (x_dim/img.shape[0], y_dim/img.shape[1], z_dim/img.shape[2]), order=1)\n",
    "for i, img in enumerate(train_ultrasound_arrays):\n",
    "    resized_train_ultrasound_images[i] = ndimage.zoom(img, (x_dim/img.shape[0], y_dim/img.shape[1], z_dim/img.shape[2]), order=1)\n",
    "\n",
    "# Print the shapes of the resized training images to confirm they all have the same shape\n",
    "print(resized_train_mri_images.shape)\n",
    "print(resized_train_ultrasound_images.shape)\n",
    "\n",
    "# Update original training arrays with resized arrays\n",
    "train_mri_arrays = resized_train_mri_images\n",
    "train_ultrasound_arrays = resized_train_ultrasound_images\n",
    "\n",
    "# Free memory of resized arrays\n",
    "del resized_train_mri_images\n",
    "del resized_train_ultrasound_images"
   ]
  },
  {
   "cell_type": "code",
   "execution_count": 38,
   "id": "0836a223-0f84-4dc0-83ab-d4ca5647e26a",
   "metadata": {
    "tags": []
   },
   "outputs": [],
   "source": [
    "def random_crop(input_image, real_image):\n",
    "    stacked_image = tf.stack([input_image, real_image], axis=0)\n",
    "    cropped_image = tf.image.random_crop(stacked_image, size=[2,IMG_HEIGHT, IMG_WIDTH, IMG_LENGTH])\n",
    "    return np.array(cropped_image[0]), np.array(cropped_image[1])"
   ]
  },
  {
   "cell_type": "code",
   "execution_count": 42,
   "id": "7cb2ef53",
   "metadata": {
    "tags": []
   },
   "outputs": [
    {
     "name": "stdout",
     "output_type": "stream",
     "text": [
      "Average SSIM score for image 1: 0.2047\n",
      "Average SSIM score for image 2: 0.1693\n",
      "Average SSIM score for image 3: 0.1438\n",
      "Average SSIM score for image 4: 0.0814\n",
      "Average SSIM score for image 5: 0.0781\n",
      "Average SSIM score for image 6: 0.1798\n",
      "Average SSIM score for image 7: 0.1247\n",
      "Average SSIM score for image 8: 0.1405\n",
      "Average SSIM score for image 9: 0.1283\n",
      "Average SSIM score for image 10: 0.0984\n",
      "Average SSIM score for image 11: 0.1745\n",
      "Average SSIM score for image 12: 0.1591\n",
      "Average SSIM score for image 13: 0.1643\n",
      "Average SSIM score for image 14: 0.1617\n",
      "Average SSIM score for image 15: 0.1556\n",
      "Average SSIM score for image 16: 0.1711\n",
      "Average SSIM score for image 17: 0.1744\n",
      "Average SSIM score for image 18: 0.1619\n",
      "Average SSIM score for image 19: 0.1732\n",
      "Average SSIM score for image 20: 0.0688\n"
     ]
    }
   ],
   "source": [
    "# outputs the average ssim of all 3d images\n",
    "output_path = \"Dataset/train/MRI/\"\n",
    "test_path = \"Dataset/train/US/\"\n",
    "\n",
    "# Loop over each image in the test and output files\n",
    "for i in range(len(train_mri_arrays)):\n",
    "    # Load the images from file\n",
    "    #output_img = nib.load(os.path.join(output_path, f\"Cropped_MRI{i+1}.nii\")).get_fdata()\n",
    "    #test_img = nib.load(os.path.join(test_path, f\"Cropped_US{i+1}.nii\")).get_fdata()\n",
    "    \n",
    "    output_img, test_img = random_crop(train_mri_arrays[i], train_ultrasound_arrays[i])\n",
    "\n",
    "    ssim_scores = []\n",
    "    \n",
    "    # Loop over each slice in the 3D images\n",
    "    for j in range(output_img.shape[2]):\n",
    "        # Select a slice from each image\n",
    "        slice1 = output_img[:, :, j]\n",
    "        slice2 = test_img[:, :, j]\n",
    "        \n",
    "        # Calculate the SSIM score for the current slice\n",
    "        score = ssim(slice1, slice2, data_range=slice2.max() - slice2.min())\n",
    "        \n",
    "        # Add the SSIM score to the list\n",
    "        ssim_scores.append(score)\n",
    "    \n",
    "    # Calculate the average SSIM score across all slices\n",
    "    avg_ssim = np.mean(ssim_scores)\n",
    "    \n",
    "    print(f'Average SSIM score for image {i+1}: {avg_ssim:.4f}')"
   ]
  },
  {
   "cell_type": "code",
   "execution_count": 40,
   "id": "e39a7324",
   "metadata": {
    "tags": []
   },
   "outputs": [
    {
     "data": {
      "image/png": "[encoded data removed]",
      "text/plain": [
       "<Figure size 1000x500 with 2 Axes>"
      ]
     },
     "metadata": {},
     "output_type": "display_data"
    }
   ],
   "source": [
    "# outputd the slices with max ssim score\n",
    "image1 = nib.load('Output/7.nii').get_fdata()\n",
    "image2 = nib.load('Test/7.nii').get_fdata()\n",
    "\n",
    "# Initialize variables\n",
    "max_score = -1\n",
    "max_slice1 = None\n",
    "max_slice2 = None\n",
    "\n",
    "# Loop over each slice in the 3D images\n",
    "for z in range(image1.shape[0]):\n",
    "    # Extract the 2D slices from both images\n",
    "    slice1 = image1[z, :, :]\n",
    "    slice2 = image2[z, :, :]\n",
    "\n",
    "    # Compute the SSIM score\n",
    "    score = ssim(slice1, slice2, data_range=slice2.max() - slice2.min())\n",
    "\n",
    "    # Check if the current score is the maximum so far\n",
    "    if score > max_score:\n",
    "        max_score = score\n",
    "        max_slice1 = slice1\n",
    "        max_slice2 = slice2\n",
    "\n",
    "# Plot the two slices with the maximum SSIM score\n",
    "fig, (ax1, ax2) = plt.subplots(1, 2, figsize=(10,5))\n",
    "ax1.imshow(max_slice1, cmap='gray')\n",
    "ax1.set_title('Generated Image')\n",
    "ax2.imshow(max_slice2, cmap='gray')\n",
    "ax2.set_title('Original Image')\n",
    "fig.suptitle('SSIM Score: {:.2f}'.format(max_score))\n",
    "\n",
    "# Show the plot\n",
    "plt.show()"
   ]
  },
  {
   "cell_type": "code",
   "execution_count": null,
   "id": "d86c5054",
   "metadata": {},
   "outputs": [],
   "source": []
  }
 ],
 "metadata": {
  "kernelspec": {
   "display_name": "Python 3 (ipykernel)",
   "language": "python",
   "name": "python3"
  },
  "language_info": {
   "codemirror_mode": {
    "name": "ipython",
    "version": 3
   },
   "file_extension": ".py",
   "mimetype": "text/x-python",
   "name": "python",
   "nbconvert_exporter": "python",
   "pygments_lexer": "ipython3",
   "version": "3.11.1"
  }
 },
 "nbformat": 4,
 "nbformat_minor": 5
}
