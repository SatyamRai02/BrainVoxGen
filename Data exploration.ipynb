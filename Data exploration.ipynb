{
 "cells": [
  {
   "cell_type": "code",
   "execution_count": 1,
   "id": "af9a58dd-52eb-4909-a973-7db22c15b3f4",
   "metadata": {
    "tags": []
   },
   "outputs": [],
   "source": [
    "import numpy as np\n",
    "import os\n",
    "import glob\n",
    "import tensorflow as tf\n",
    "import nibabel as nib\n",
    "from nilearn import plotting"
   ]
  },
  {
   "cell_type": "code",
   "execution_count": 2,
   "id": "8f8123e4-7524-48cd-992b-3401d1a2cba8",
   "metadata": {
    "tags": []
   },
   "outputs": [
    {
     "name": "stderr",
     "output_type": "stream",
     "text": [
      "C:\\Users\\007sh\\AppData\\Local\\Programs\\Python\\Python311\\Lib\\site-packages\\nilearn\\_utils\\niimg.py:63: UserWarning: Non-finite values detected. These values will be replaced with zeros.\n",
      "  warn(\n",
      "C:\\Users\\007sh\\AppData\\Local\\Programs\\Python\\Python311\\Lib\\site-packages\\nilearn\\plotting\\find_cuts.py:69: UserWarning: Given img is empty. Returning default cut_coords=(0.0, 0.0, 0.0) instead.\n",
      "  warnings.warn(\n"
     ]
    },
    {
     "data": {
      "image/png": "[encoded data removed]",
      "text/plain": [
       "<Figure size 660x260 with 4 Axes>"
      ]
     },
     "metadata": {},
     "output_type": "display_data"
    }
   ],
   "source": [
    "# Load the first nii image\n",
    "nii_image1 = nib.load('Output/2.nii')\n",
    "# Load the second nii image\n",
    "nii_image2 = nib.load('Test/2.nii')\n",
    "# Plot the first image\n",
    "display = plotting.plot_img(nii_image1, cmap='gray')\n",
    "# Add the second image as an overlay\n",
    "display.add_overlay(nii_image2, cmap='hot', alpha=0.5, colorbar=False)\n",
    "\n",
    "# Show the plot\n",
    "plotting.show()"
   ]
  },
  {
   "cell_type": "code",
   "execution_count": 3,
   "id": "1a10cb61-2c3c-4175-a595-8b669647160a",
   "metadata": {
    "tags": []
   },
   "outputs": [],
   "source": [
    "x = nii_image2.get_fdata()\n",
    "y = nii_image1.get_fdata()"
   ]
  },
  {
   "cell_type": "code",
   "execution_count": 4,
   "id": "9cf2cbb7-e246-4f70-9128-8722ace6a856",
   "metadata": {},
   "outputs": [],
   "source": [
    "import numpy as np\n",
    "from skimage.metrics import structural_similarity as ssim\n",
    "\n",
    "def calculate_ssim(image1, image2):\n",
    "    \"\"\"\n",
    "    Calculates the Structural Similarity Index (SSIM) between two 3D images.\n",
    "\n",
    "    Args:\n",
    "        image1 (ndarray): 3D array representing the first image.\n",
    "        image2 (ndarray): 3D array representing the second image.\n",
    "\n",
    "    Returns:\n",
    "        ssim_score (float): The SSIM score between the two images.\n",
    "    \"\"\"\n",
    "\n",
    "    # Ensure that the input arrays are of the same shape\n",
    "    if image1.shape != image2.shape:\n",
    "        raise ValueError(\"Input images must have the same dimensions.\")\n",
    "\n",
    "    # Initialize the SSIM score\n",
    "    ssim_score = 0\n",
    "\n",
    "    # Loop through each slice of the 3D images and calculate the SSIM\n",
    "    for i in range(image1.shape[0]):\n",
    "        # Calculate SSIM for each slice using the skimage.metrics module\n",
    "        slice_score = ssim(image1[i], image2[i], data_range=image1.max() - image1.min())\n",
    "        # Add the SSIM score for each slice to the overall score\n",
    "        ssim_score += slice_score\n",
    "\n",
    "    # Average the SSIM scores for each slice to get the final SSIM score\n",
    "    ssim_score /= image1.shape[0]\n",
    "\n",
    "    return ssim_score\n"
   ]
  },
  {
   "cell_type": "code",
   "execution_count": 5,
   "id": "df0d9947-fa5b-4f33-8eda-8b096cf55f9f",
   "metadata": {
    "tags": []
   },
   "outputs": [
    {
     "ename": "ValueError",
     "evalue": "Input images must have the same dimensions.",
     "output_type": "error",
     "traceback": [
      "\u001b[1;31m---------------------------------------------------------------------------\u001b[0m",
      "\u001b[1;31mValueError\u001b[0m                                Traceback (most recent call last)",
      "Cell \u001b[1;32mIn[5], line 1\u001b[0m\n\u001b[1;32m----> 1\u001b[0m \u001b[38;5;28mprint\u001b[39m(\u001b[43mcalculate_ssim\u001b[49m\u001b[43m(\u001b[49m\u001b[43mx\u001b[49m\u001b[43m,\u001b[49m\u001b[43m \u001b[49m\u001b[43my\u001b[49m\u001b[43m)\u001b[49m)\n",
      "Cell \u001b[1;32mIn[4], line 18\u001b[0m, in \u001b[0;36mcalculate_ssim\u001b[1;34m(image1, image2)\u001b[0m\n\u001b[0;32m     16\u001b[0m \u001b[38;5;66;03m# Ensure that the input arrays are of the same shape\u001b[39;00m\n\u001b[0;32m     17\u001b[0m \u001b[38;5;28;01mif\u001b[39;00m image1\u001b[38;5;241m.\u001b[39mshape \u001b[38;5;241m!=\u001b[39m image2\u001b[38;5;241m.\u001b[39mshape:\n\u001b[1;32m---> 18\u001b[0m     \u001b[38;5;28;01mraise\u001b[39;00m \u001b[38;5;167;01mValueError\u001b[39;00m(\u001b[38;5;124m\"\u001b[39m\u001b[38;5;124mInput images must have the same dimensions.\u001b[39m\u001b[38;5;124m\"\u001b[39m)\n\u001b[0;32m     20\u001b[0m \u001b[38;5;66;03m# Initialize the SSIM score\u001b[39;00m\n\u001b[0;32m     21\u001b[0m ssim_score \u001b[38;5;241m=\u001b[39m \u001b[38;5;241m0\u001b[39m\n",
      "\u001b[1;31mValueError\u001b[0m: Input images must have the same dimensions."
     ]
    }
   ],
   "source": [
    "print(calculate_ssim(x, y))"
   ]
  },
  {
   "cell_type": "code",
   "execution_count": null,
   "id": "5d1a4d94-a7f8-4fa9-9ace-24f99dbcfe93",
   "metadata": {},
   "outputs": [],
   "source": [
    "test_mri_images = [os.path.abspath(path) for path in glob.glob(f'Test/*.nii')]\n",
    "predicted_mri_images = [os.path.abspath(path) for path in glob.glob(f'Output/*.nii')]"
   ]
  },
  {
   "cell_type": "code",
   "execution_count": null,
   "id": "6645196c-9ac1-4933-811e-bab0b0f0dd7e",
   "metadata": {
    "tags": []
   },
   "outputs": [],
   "source": [
    "test_mri_images"
   ]
  },
  {
   "cell_type": "code",
   "execution_count": null,
   "id": "108cda07-dd58-4246-b803-cdcb3b751448",
   "metadata": {},
   "outputs": [],
   "source": []
  }
 ],
 "metadata": {
  "kernelspec": {
   "display_name": "Python 3 (ipykernel)",
   "language": "python",
   "name": "python3"
  },
  "language_info": {
   "codemirror_mode": {
    "name": "ipython",
    "version": 3
   },
   "file_extension": ".py",
   "mimetype": "text/x-python",
   "name": "python",
   "nbconvert_exporter": "python",
   "pygments_lexer": "ipython3",
   "version": "3.11.1"
  }
 },
 "nbformat": 4,
 "nbformat_minor": 5
}
